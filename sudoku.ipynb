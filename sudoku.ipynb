{
  "nbformat": 4,
  "nbformat_minor": 0,
  "metadata": {
    "colab": {
      "provenance": [],
      "authorship_tag": "ABX9TyOXKIPASdq6w9aF4JyMgFLr",
      "include_colab_link": true
    },
    "kernelspec": {
      "name": "python3",
      "display_name": "Python 3"
    },
    "language_info": {
      "name": "python"
    }
  },
  "cells": [
    {
      "cell_type": "markdown",
      "metadata": {
        "id": "view-in-github",
        "colab_type": "text"
      },
      "source": [
        "<a href=\"https://colab.research.google.com/github/sanjanb/sudoku_solver/blob/main/sudoku.ipynb\" target=\"_parent\"><img src=\"https://colab.research.google.com/assets/colab-badge.svg\" alt=\"Open In Colab\"/></a>"
      ]
    },
    {
      "cell_type": "code",
      "execution_count": null,
      "metadata": {
        "colab": {
          "base_uri": "https://localhost:8080/"
        },
        "id": "0TbLqqxxAtcS",
        "outputId": "66356507-e5b9-4d6a-ccf1-637c0c75d798"
      },
      "outputs": [
        {
          "output_type": "stream",
          "name": "stdout",
          "text": [
            "1 7 2 5 4 9 6 8 3 \n",
            "6 4 5 8 7 3 2 1 9 \n",
            "3 8 9 2 6 1 7 4 5 \n",
            "4 9 6 3 2 7 8 5 1 \n",
            "8 1 3 4 5 6 9 7 2 \n",
            "2 5 7 1 9 8 4 3 6 \n",
            "9 6 4 7 1 5 3 2 8 \n",
            "7 3 1 6 8 2 5 9 4 \n",
            "5 2 8 9 3 4 1 6 7 \n"
          ]
        }
      ],
      "source": [
        "def is_valid_move(grid, row, col, number):\n",
        "    for x in range(9):\n",
        "        if grid[row][x] == number:\n",
        "            return False\n",
        "\n",
        "    for x in range(9):\n",
        "        if grid[x][col] == number:\n",
        "            return False\n",
        "\n",
        "    corner_row = row - row % 3\n",
        "    corner_col = col - col % 3\n",
        "    for x in range(3):\n",
        "        for y in range(3):\n",
        "            if grid[corner_row + x][corner_col + y] == number:\n",
        "                return False\n",
        "\n",
        "    return True\n",
        "\n",
        "def solve(grid, row, col):\n",
        "\n",
        "    if col == 9:\n",
        "        if row == 8:\n",
        "            return True\n",
        "        row += 1\n",
        "        col = 0\n",
        "\n",
        "    if grid[row][col] > 0:\n",
        "        return solve(grid, row, col + 1)\n",
        "\n",
        "    for num in range(1, 10):\n",
        "        if is_valid_move(grid, row, col, num):\n",
        "            grid[row][col] = num\n",
        "            if solve(grid, row, col + 1):\n",
        "                return True\n",
        "        grid[row][col] = 0\n",
        "    return False\n",
        "\n",
        "grid = [[0, 0, 0, 0, 0, 0, 6, 8, 0],\n",
        "        [0, 0, 0, 0, 7, 3, 0, 0, 9],\n",
        "\t      [3, 0, 9, 0, 0, 0, 0, 4, 5],\n",
        "\t      [4, 9, 0, 0, 0, 0, 0, 0, 0],\n",
        "\t      [8, 0, 3, 0, 5, 0, 9, 0, 2],\n",
        "\t      [0, 0, 0, 0, 0, 0, 0, 3, 6],\n",
        "\t      [9, 6, 0, 0, 0, 0, 3, 0, 8],\n",
        "\t      [7, 0, 0, 6, 8, 0, 0, 0, 0],\n",
        "\t      [0, 2, 8, 0, 0, 0, 0, 0, 0]]\n",
        "\n",
        "if solve(grid, 0, 0):\n",
        "    for i in range(9):\n",
        "        for j in range(9):\n",
        "            print(grid[i][j], end = \" \")\n",
        "        print()\n",
        "else:\n",
        "    print(\"no solution fo this grid\")\n",
        "\n",
        "\n"
      ]
    },
    {
      "cell_type": "code",
      "source": [],
      "metadata": {
        "id": "wgRfGEWCBuE6"
      },
      "execution_count": null,
      "outputs": []
    },
    {
      "cell_type": "markdown",
      "source": [],
      "metadata": {
        "id": "Bif39rpiBDA9"
      }
    }
  ]
}